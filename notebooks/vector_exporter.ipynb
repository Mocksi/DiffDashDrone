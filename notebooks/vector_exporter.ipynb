{
 "cells": [
  {
   "cell_type": "code",
   "execution_count": 1,
   "metadata": {},
   "outputs": [],
   "source": [
    "import os\n",
    "\n",
    "# Fill the environmental variable with your own OpenAI API key\n",
    "# See: https://platform.openai.com/account/api-keys\n",
    "os.environ[\"OPENAI_API_KEY\"] = \"x\""
   ]
  },
  {
   "cell_type": "code",
   "execution_count": 2,
   "metadata": {},
   "outputs": [
    {
     "data": {
      "text/plain": [
       "CollectionsResponse(collections=[])"
      ]
     },
     "execution_count": 2,
     "metadata": {},
     "output_type": "execute_result"
    }
   ],
   "source": [
    "import qdrant_client\n",
    "\n",
    "client = qdrant_client.QdrantClient(\"http://localhost:6333\", prefer_grpc=True)\n",
    "client.get_collections()"
   ]
  },
  {
   "cell_type": "code",
   "execution_count": 3,
   "metadata": {},
   "outputs": [],
   "source": [
    "COLLECTION_NAME=\"repo-embeddings\""
   ]
  },
  {
   "cell_type": "code",
   "execution_count": 4,
   "metadata": {},
   "outputs": [
    {
     "data": {
      "text/plain": [
       "True"
      ]
     },
     "execution_count": 4,
     "metadata": {},
     "output_type": "execute_result"
    }
   ],
   "source": [
    "from qdrant_client.http import models as rest\n",
    "\n",
    "vector_size = 1536\n",
    "\n",
    "client.recreate_collection(\n",
    "    collection_name=COLLECTION_NAME,\n",
    "    vectors_config={\n",
    "        \"content\": rest.VectorParams(\n",
    "            distance=rest.Distance.COSINE,\n",
    "            size=vector_size,\n",
    "        ),\n",
    "    }\n",
    ")"
   ]
  },
  {
   "cell_type": "code",
   "execution_count": 5,
   "metadata": {},
   "outputs": [],
   "source": [
    "import pandas as pd\n",
    "\n",
    "df = pd.read_parquet(\"../output.parquet\")"
   ]
  },
  {
   "cell_type": "code",
   "execution_count": 6,
   "metadata": {},
   "outputs": [],
   "source": [
    "from langchain_openai import OpenAIEmbeddings\n",
    "import asyncio"
   ]
  },
  {
   "cell_type": "code",
   "execution_count": 7,
   "metadata": {},
   "outputs": [],
   "source": [
    "embeddings = OpenAIEmbeddings(model=\"text-embedding-ada-002\")\n",
    "async def generate_embeddings_batch(texts):\n",
    "    return embeddings.embed_documents(texts)"
   ]
  },
  {
   "cell_type": "code",
   "execution_count": 8,
   "metadata": {},
   "outputs": [],
   "source": [
    "\n",
    "import numpy as np\n",
    "\n",
    "# Split the dataframe into batches\n",
    "chunk_size = 20"
   ]
  },
  {
   "cell_type": "code",
   "execution_count": 9,
   "metadata": {},
   "outputs": [],
   "source": [
    "import tqdm\n",
    "import asyncio\n",
    "from tqdm.asyncio import tqdm\n",
    "from qdrant_client import QdrantClient\n",
    "from qdrant_client.http.models import PointStruct, Payload, Filter\n",
    "import time\n",
    "import uuid\n",
    "import json"
   ]
  },
  {
   "cell_type": "code",
   "execution_count": 10,
   "metadata": {},
   "outputs": [],
   "source": [
    "async def add_to_client(sdf):\n",
    "    for _, row in sdf.iterrows():\n",
    "        row = row.to_dict()\n",
    "        formatted_output = {\n",
    "            \"message\": str(row.get(\"message\", \"\")),\n",
    "            \"author_email\": str(row.get(\"author_email\", \"\")),\n",
    "            \"hash\": str(row.get(\"hash\", \"\")),\n",
    "            \"bug_spot_likelihood\": str(row.get(\"bug_spot_likelihood\", \"\")),\n",
    "            \"commit_timestamp\": str(row.get(\"commit_timestamp\", \"\")),\n",
    "            \"filename\": str(row.get(\"filename\", \"\")),\n",
    "        }\n",
    "        formatted_output = json.dumps(formatted_output)\n",
    "        embeddings = await generate_embeddings_batch([formatted_output])\n",
    "        points=[\n",
    "            rest.PointStruct(\n",
    "                id=str(uuid.uuid4()),\n",
    "                vector={\"content\": embedding},\n",
    "                payload={\"output\": formatted_output, \"hash\": str(row.get(\"hash\", \"\"))}\n",
    "            ) \n",
    "            for embedding in embeddings\n",
    "        ]\n",
    "        client.upsert(collection_name=COLLECTION_NAME, points=points)\n",
    "    print(f\"processed:#{sdf.head(1).index} to: #{sdf.tail(1).index}\")\n",
    "\n",
    "async def process():\n",
    "    semaphore = asyncio.Semaphore(3)  # Limit to 3 concurrent tasks\n",
    "    tasks = []\n",
    "\n",
    "    async def sem_task(task):\n",
    "        async with semaphore:\n",
    "            return await task\n",
    "\n",
    "    for i in range(0, len(df), chunk_size):\n",
    "        task = add_to_client(df[i:i+chunk_size])\n",
    "        tasks.append(sem_task(task))\n",
    "\n",
    "    for task in tqdm(asyncio.as_completed(tasks), total=len(tasks)):\n",
    "        await task"
   ]
  },
  {
   "cell_type": "code",
   "execution_count": 11,
   "metadata": {},
   "outputs": [
    {
     "name": "stderr",
     "output_type": "stream",
     "text": [
      "  0%|                                                                                                                                                               | 0/50 [00:00<?, ?it/s]"
     ]
    },
    {
     "name": "stdout",
     "output_type": "stream",
     "text": [
      "processed:#RangeIndex(start=520, stop=521, step=1) to: #RangeIndex(start=539, stop=540, step=1)\n",
      "processed:#RangeIndex(start=180, stop=181, step=1) to: #RangeIndex(start=199, stop=200, step=1)\n",
      "processed:#RangeIndex(start=860, stop=861, step=1) to: #RangeIndex(start=879, stop=880, step=1)\n",
      "processed:#RangeIndex(start=700, stop=701, step=1) to: #RangeIndex(start=719, stop=720, step=1)\n",
      "processed:#RangeIndex(start=360, stop=361, step=1) to: #RangeIndex(start=379, stop=380, step=1)\n"
     ]
    }
   ],
   "source": [
    "await process()"
   ]
  }
 ],
 "metadata": {
  "kernelspec": {
   "display_name": "Python 3 (ipykernel)",
   "language": "python",
   "name": "python3"
  },
  "language_info": {
   "codemirror_mode": {
    "name": "ipython",
    "version": 3
   },
   "file_extension": ".py",
   "mimetype": "text/x-python",
   "name": "python",
   "nbconvert_exporter": "python",
   "pygments_lexer": "ipython3",
   "version": "3.11.7"
  }
 },
 "nbformat": 4,
 "nbformat_minor": 2
}
